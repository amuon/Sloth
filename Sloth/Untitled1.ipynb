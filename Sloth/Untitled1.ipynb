{
 "cells": [
  {
   "cell_type": "code",
   "execution_count": 1,
   "id": "separated-birth",
   "metadata": {},
   "outputs": [],
   "source": [
    "from frame import DataFrame as df"
   ]
  },
  {
   "cell_type": "code",
   "execution_count": 2,
   "id": "suited-electricity",
   "metadata": {},
   "outputs": [],
   "source": [
    "import pandas as pd\n",
    "import numpy as np"
   ]
  },
  {
   "cell_type": "code",
   "execution_count": 3,
   "id": "minus-colors",
   "metadata": {},
   "outputs": [],
   "source": [
    "x = r\"C:\\Users\\evanh\\Projects\\AT\\Data\\Binance-BTCUSDT.csv\"\n",
    "pddf = pd.read_csv(x, index_col=0)"
   ]
  },
  {
   "cell_type": "code",
   "execution_count": 4,
   "id": "maritime-liabilities",
   "metadata": {},
   "outputs": [
    {
     "data": {
      "text/plain": [
       "array(['2020-01-01 00:00:00+00:00', '2020-01-01 00:01:00+00:00',\n",
       "       '2020-01-01 00:02:00+00:00', ..., '2020-08-05 01:20:00+00:00',\n",
       "       '2020-08-05 01:21:00+00:00', '2020-08-05 01:22:00+00:00'],\n",
       "      dtype=object)"
      ]
     },
     "execution_count": 4,
     "metadata": {},
     "output_type": "execute_result"
    }
   ],
   "source": [
    "np.asarray(pddf.index)"
   ]
  },
  {
   "cell_type": "code",
   "execution_count": 5,
   "id": "willing-commerce",
   "metadata": {},
   "outputs": [],
   "source": [
    "data = df.from_pandas(pddf)"
   ]
  },
  {
   "cell_type": "code",
   "execution_count": 7,
   "id": "beneficial-checklist",
   "metadata": {},
   "outputs": [
    {
     "data": {
      "text/plain": [
       "                              Open     High      Low    Close     Volume  \\\n",
       "2020-01-01 00:05:00+00:00  7179.76  7182.51  7178.20  7179.99  12.463243   \n",
       "2020-01-01 00:06:00+00:00  7180.00  7182.00  7179.99  7182.00   3.573774   \n",
       "2020-01-01 00:07:00+00:00  7181.70  7183.77  7180.91  7183.66  14.470782   \n",
       "2020-01-01 00:08:00+00:00  7183.90  7187.74  7183.45  7187.68  12.842443   \n",
       "2020-01-01 00:09:00+00:00  7187.68  7191.77  7186.02  7191.07  16.014983   \n",
       "\n",
       "                           Quote Asset Volume  Number of Trades  \\\n",
       "2020-01-01 00:05:00+00:00        89484.363535             143.0   \n",
       "2020-01-01 00:06:00+00:00        25662.347910              72.0   \n",
       "2020-01-01 00:07:00+00:00       103928.870431             147.0   \n",
       "2020-01-01 00:08:00+00:00        92277.914467             134.0   \n",
       "2020-01-01 00:09:00+00:00       115127.764021             135.0   \n",
       "\n",
       "                           Taker Buy Base Asset Volume  \\\n",
       "2020-01-01 00:05:00+00:00                     3.652785   \n",
       "2020-01-01 00:06:00+00:00                     1.678855   \n",
       "2020-01-01 00:07:00+00:00                     7.166713   \n",
       "2020-01-01 00:08:00+00:00                     4.996467   \n",
       "2020-01-01 00:09:00+00:00                     7.271693   \n",
       "\n",
       "                           Taker Buy Quote Asset Volume  \n",
       "2020-01-01 00:05:00+00:00                  26225.069623  \n",
       "2020-01-01 00:06:00+00:00                  12055.511055  \n",
       "2020-01-01 00:07:00+00:00                  51474.223820  \n",
       "2020-01-01 00:08:00+00:00                  35903.397936  \n",
       "2020-01-01 00:09:00+00:00                  52277.415767  "
      ]
     },
     "execution_count": 7,
     "metadata": {},
     "output_type": "execute_result"
    }
   ],
   "source": [
    "data.iloc[5:10]"
   ]
  },
  {
   "cell_type": "code",
   "execution_count": null,
   "id": "useful-trustee",
   "metadata": {},
   "outputs": [],
   "source": [
    "data[\"Open\"] + data[\"High\"]"
   ]
  },
  {
   "cell_type": "code",
   "execution_count": null,
   "id": "constant-nerve",
   "metadata": {},
   "outputs": [],
   "source": [
    "%timeit pddf[\"Test\"] = pddf[\"Volume\"].values"
   ]
  },
  {
   "cell_type": "code",
   "execution_count": null,
   "id": "employed-scheduling",
   "metadata": {},
   "outputs": [],
   "source": [
    "%timeit data[\"Test\"] = pddf[\"Volume\"].values"
   ]
  },
  {
   "cell_type": "code",
   "execution_count": null,
   "id": "premier-advance",
   "metadata": {},
   "outputs": [],
   "source": [
    "np.concatenate((data.values, np.transpose([pddf[\"Volume\"].values])), axis=1)"
   ]
  },
  {
   "cell_type": "code",
   "execution_count": null,
   "id": "pursuant-shade",
   "metadata": {},
   "outputs": [],
   "source": [
    "a = np.array([[1, 2], [3, 4]])\n",
    "b = np.array([[5, 6]])\n",
    "np.concatenate((a, b.T), axis=1)\n",
    "b.T.shape"
   ]
  },
  {
   "cell_type": "code",
   "execution_count": null,
   "id": "functioning-agreement",
   "metadata": {},
   "outputs": [],
   "source": [
    "pddf[\"Volume\"].values.shape"
   ]
  },
  {
   "cell_type": "code",
   "execution_count": null,
   "id": "communist-perth",
   "metadata": {},
   "outputs": [],
   "source": [
    "data.loc[\"2020-01-01 00:00:00+00:00\": \"2020-08-05 01:18:00+00:00\"]"
   ]
  },
  {
   "cell_type": "code",
   "execution_count": null,
   "id": "promising-tulsa",
   "metadata": {},
   "outputs": [],
   "source": [
    "data"
   ]
  },
  {
   "cell_type": "code",
   "execution_count": null,
   "id": "given-colors",
   "metadata": {},
   "outputs": [],
   "source": [
    "%timeit data[[\"Open\", \"Close\"]]"
   ]
  },
  {
   "cell_type": "code",
   "execution_count": null,
   "id": "egyptian-certificate",
   "metadata": {},
   "outputs": [],
   "source": []
  },
  {
   "cell_type": "code",
   "execution_count": null,
   "id": "variable-festival",
   "metadata": {},
   "outputs": [],
   "source": [
    "%timeit pddf[[\"Open\", \"Close\"]]"
   ]
  },
  {
   "cell_type": "code",
   "execution_count": null,
   "id": "protective-fancy",
   "metadata": {},
   "outputs": [],
   "source": [
    "%timeit pddf.iloc[-1]"
   ]
  },
  {
   "cell_type": "code",
   "execution_count": null,
   "id": "printable-friday",
   "metadata": {},
   "outputs": [],
   "source": [
    "%timeit data.iloc[-1]"
   ]
  },
  {
   "cell_type": "code",
   "execution_count": null,
   "id": "superb-length",
   "metadata": {},
   "outputs": [],
   "source": [
    "len_columns = len(ti)\n",
    "len_index = 10\n"
   ]
  },
  {
   "cell_type": "code",
   "execution_count": null,
   "id": "dated-arizona",
   "metadata": {},
   "outputs": [],
   "source": [
    "np.arange(10).reshape((2,5))[1]"
   ]
  },
  {
   "cell_type": "code",
   "execution_count": null,
   "id": "innocent-strengthening",
   "metadata": {},
   "outputs": [],
   "source": [
    "og = [\"A\", \"B\", \"C\", \"D\"]\n",
    "ti = [\"A\", \"X\", \"Y\", \"Z\", \"B\", \"D\", \"E\"]\n",
    "\n",
    "odg = np.ones((4, 10))"
   ]
  },
  {
   "cell_type": "code",
   "execution_count": null,
   "id": "boolean-compression",
   "metadata": {},
   "outputs": [],
   "source": [
    "l = np.zeros((len_columns, len_index))\n",
    "for target_index in range(len(ti)):\n",
    "    for i in range(len(og)):\n",
    "        if ti[target_index] == og[i]:\n",
    "            l[target_index] = odg[i]\n",
    "l"
   ]
  },
  {
   "cell_type": "code",
   "execution_count": null,
   "id": "actual-links",
   "metadata": {},
   "outputs": [],
   "source": [
    "type(data.values_)"
   ]
  },
  {
   "cell_type": "code",
   "execution_count": null,
   "id": "dense-carry",
   "metadata": {},
   "outputs": [],
   "source": [
    "l.shape == (7,10)"
   ]
  },
  {
   "cell_type": "code",
   "execution_count": null,
   "id": "amazing-march",
   "metadata": {
    "scrolled": true
   },
   "outputs": [],
   "source": [
    "arg = slice(None, 5)\n",
    "arg.start >= 0"
   ]
  }
 ],
 "metadata": {
  "kernelspec": {
   "display_name": "Python 3",
   "language": "python",
   "name": "python3"
  },
  "language_info": {
   "codemirror_mode": {
    "name": "ipython",
    "version": 3
   },
   "file_extension": ".py",
   "mimetype": "text/x-python",
   "name": "python",
   "nbconvert_exporter": "python",
   "pygments_lexer": "ipython3",
   "version": "3.8.5"
  }
 },
 "nbformat": 4,
 "nbformat_minor": 5
}
