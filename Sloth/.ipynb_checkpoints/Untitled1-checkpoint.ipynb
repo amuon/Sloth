{
 "cells": [
  {
   "cell_type": "code",
   "execution_count": 6,
   "id": "special-poison",
   "metadata": {},
   "outputs": [],
   "source": [
    "from frame import DataFrame as df"
   ]
  },
  {
   "cell_type": "code",
   "execution_count": 20,
   "id": "qualified-kentucky",
   "metadata": {},
   "outputs": [],
   "source": [
    "import pandas as pd\n",
    "import numpy as np"
   ]
  },
  {
   "cell_type": "code",
   "execution_count": 27,
   "id": "tutorial-auditor",
   "metadata": {},
   "outputs": [],
   "source": [
    "x = r\"C:\\Users\\evanh\\Projects\\AT\\Data\\Binance-BTCUSDT.csv\"\n",
    "pddf = pd.read_csv(x)"
   ]
  },
  {
   "cell_type": "code",
   "execution_count": 28,
   "id": "dramatic-artwork",
   "metadata": {},
   "outputs": [],
   "source": [
    "data = df.from_pandas(pddf)"
   ]
  },
  {
   "cell_type": "code",
   "execution_count": 12,
   "id": "coastal-aluminum",
   "metadata": {},
   "outputs": [
    {
     "data": {
      "text/plain": [
       "                        Timestamp     Open     High      Low    Close  \\\n",
       "0       2020-01-01 00:00:00+00:00  7195.24  7196.25  7183.14  7186.68   \n",
       "1       2020-01-01 00:01:00+00:00  7187.67  7188.06   7182.2  7184.03   \n",
       "2       2020-01-01 00:02:00+00:00  7184.41  7184.71  7180.26  7182.43   \n",
       "3       2020-01-01 00:03:00+00:00  7183.83  7188.94  7182.49  7185.94   \n",
       "4       2020-01-01 00:04:00+00:00  7185.54  7185.54  7178.64  7179.78   \n",
       "...                           ...      ...      ...      ...      ...   \n",
       "311656  2020-08-05 01:18:00+00:00  11109.5  11134.4  11108.9  11134.1   \n",
       "311657  2020-08-05 01:19:00+00:00  11134.1  11143.6  11128.2  11137.5   \n",
       "311658  2020-08-05 01:20:00+00:00  11137.9  11147.5  11137.9  11146.5   \n",
       "311659  2020-08-05 01:21:00+00:00    11146  11154.9  11145.8  11153.8   \n",
       "311660  2020-08-05 01:22:00+00:00  11153.7    11155  11149.7    11155   \n",
       "\n",
       "         Volume Quote Asset Volume Number of Trades  \\\n",
       "0       51.6428             371234              493   \n",
       "1       7.24815            52080.1              135   \n",
       "2       11.6817            83903.7              202   \n",
       "3       10.0254            72033.2              136   \n",
       "4       14.9111             107067              161   \n",
       "...         ...                ...              ...   \n",
       "311656  104.428        1.16166e+06             1353   \n",
       "311657  48.0642             535240              903   \n",
       "311658  28.4784             317377              593   \n",
       "311659  32.0999             357931              545   \n",
       "311660  3.77397            42089.9              150   \n",
       "\n",
       "       Taker Buy Base Asset Volume Taker Buy Quote Asset Volume  \n",
       "0                          19.5982                       140888  \n",
       "1                          2.03177                      14599.2  \n",
       "2                          5.47924                      39357.1  \n",
       "3                          3.29497                      23680.6  \n",
       "4                          2.36903                        17012  \n",
       "...                            ...                          ...  \n",
       "311656                     36.3315                       404115  \n",
       "311657                     29.3145                       326451  \n",
       "311658                     13.5086                       150542  \n",
       "311659                     17.3922                       193932  \n",
       "311660                     1.32746                      14803.8  \n",
       "\n",
       "[311661 rows x 10 columns]"
      ]
     },
     "execution_count": 12,
     "metadata": {},
     "output_type": "execute_result"
    }
   ],
   "source": [
    "data"
   ]
  },
  {
   "cell_type": "code",
   "execution_count": 26,
   "id": "experienced-collectible",
   "metadata": {},
   "outputs": [
    {
     "data": {
      "text/plain": [
       "           Open    Close\n",
       "0       7195.24  7186.68\n",
       "1       7187.67  7184.03\n",
       "2       7184.41  7182.43\n",
       "3       7183.83  7185.94\n",
       "4       7185.54  7179.78\n",
       "...         ...      ...\n",
       "311656  11109.5  11134.1\n",
       "311657  11134.1  11137.5\n",
       "311658  11137.9  11146.5\n",
       "311659    11146  11153.8\n",
       "311660  11153.7    11155\n",
       "\n",
       "[311661 rows x 2 columns]"
      ]
     },
     "execution_count": 26,
     "metadata": {},
     "output_type": "execute_result"
    }
   ],
   "source": [
    "data[[\"Open\", \"Close\"]]"
   ]
  },
  {
   "cell_type": "code",
   "execution_count": 31,
   "id": "silver-chuck",
   "metadata": {},
   "outputs": [
    {
     "data": {
      "text/html": [
       "<div>\n",
       "<style scoped>\n",
       "    .dataframe tbody tr th:only-of-type {\n",
       "        vertical-align: middle;\n",
       "    }\n",
       "\n",
       "    .dataframe tbody tr th {\n",
       "        vertical-align: top;\n",
       "    }\n",
       "\n",
       "    .dataframe thead th {\n",
       "        text-align: right;\n",
       "    }\n",
       "</style>\n",
       "<table border=\"1\" class=\"dataframe\">\n",
       "  <thead>\n",
       "    <tr style=\"text-align: right;\">\n",
       "      <th></th>\n",
       "      <th>Open</th>\n",
       "      <th>Close</th>\n",
       "    </tr>\n",
       "  </thead>\n",
       "  <tbody>\n",
       "    <tr>\n",
       "      <th>0</th>\n",
       "      <td>7195.24</td>\n",
       "      <td>7186.68</td>\n",
       "    </tr>\n",
       "    <tr>\n",
       "      <th>1</th>\n",
       "      <td>7187.67</td>\n",
       "      <td>7184.03</td>\n",
       "    </tr>\n",
       "    <tr>\n",
       "      <th>2</th>\n",
       "      <td>7184.41</td>\n",
       "      <td>7182.43</td>\n",
       "    </tr>\n",
       "    <tr>\n",
       "      <th>3</th>\n",
       "      <td>7183.83</td>\n",
       "      <td>7185.94</td>\n",
       "    </tr>\n",
       "    <tr>\n",
       "      <th>4</th>\n",
       "      <td>7185.54</td>\n",
       "      <td>7179.78</td>\n",
       "    </tr>\n",
       "    <tr>\n",
       "      <th>...</th>\n",
       "      <td>...</td>\n",
       "      <td>...</td>\n",
       "    </tr>\n",
       "    <tr>\n",
       "      <th>311656</th>\n",
       "      <td>11109.51</td>\n",
       "      <td>11134.06</td>\n",
       "    </tr>\n",
       "    <tr>\n",
       "      <th>311657</th>\n",
       "      <td>11134.06</td>\n",
       "      <td>11137.47</td>\n",
       "    </tr>\n",
       "    <tr>\n",
       "      <th>311658</th>\n",
       "      <td>11137.90</td>\n",
       "      <td>11146.54</td>\n",
       "    </tr>\n",
       "    <tr>\n",
       "      <th>311659</th>\n",
       "      <td>11145.99</td>\n",
       "      <td>11153.80</td>\n",
       "    </tr>\n",
       "    <tr>\n",
       "      <th>311660</th>\n",
       "      <td>11153.70</td>\n",
       "      <td>11154.99</td>\n",
       "    </tr>\n",
       "  </tbody>\n",
       "</table>\n",
       "<p>311661 rows × 2 columns</p>\n",
       "</div>"
      ],
      "text/plain": [
       "            Open     Close\n",
       "0        7195.24   7186.68\n",
       "1        7187.67   7184.03\n",
       "2        7184.41   7182.43\n",
       "3        7183.83   7185.94\n",
       "4        7185.54   7179.78\n",
       "...          ...       ...\n",
       "311656  11109.51  11134.06\n",
       "311657  11134.06  11137.47\n",
       "311658  11137.90  11146.54\n",
       "311659  11145.99  11153.80\n",
       "311660  11153.70  11154.99\n",
       "\n",
       "[311661 rows x 2 columns]"
      ]
     },
     "execution_count": 31,
     "metadata": {},
     "output_type": "execute_result"
    }
   ],
   "source": [
    "pddf[[\"Open\", \"Close\"]]"
   ]
  },
  {
   "cell_type": "code",
   "execution_count": 35,
   "id": "trained-rainbow",
   "metadata": {},
   "outputs": [
    {
     "data": {
      "text/plain": [
       "array([['2020-01-01 00:05:00+00:00', 7179.76, 7182.51, 7178.2, 7179.99,\n",
       "        12.463243, 89484.36353504, 143, 3.652785, 26225.06962261],\n",
       "       ['2020-01-01 00:06:00+00:00', 7180.0, 7182.0, 7179.99, 7182.0,\n",
       "        3.573774, 25662.34790983, 72, 1.678855, 12055.51105524],\n",
       "       ['2020-01-01 00:07:00+00:00', 7181.7, 7183.77, 7180.91, 7183.66,\n",
       "        14.470782, 103928.87043062, 147, 7.1667130000000006,\n",
       "        51474.22381991]], dtype=object)"
      ]
     },
     "execution_count": 35,
     "metadata": {},
     "output_type": "execute_result"
    }
   ],
   "source": [
    "data.iloc[5:8].values"
   ]
  }
 ],
 "metadata": {
  "kernelspec": {
   "display_name": "Python 3",
   "language": "python",
   "name": "python3"
  },
  "language_info": {
   "codemirror_mode": {
    "name": "ipython",
    "version": 3
   },
   "file_extension": ".py",
   "mimetype": "text/x-python",
   "name": "python",
   "nbconvert_exporter": "python",
   "pygments_lexer": "ipython3",
   "version": "3.8.5"
  }
 },
 "nbformat": 4,
 "nbformat_minor": 5
}
