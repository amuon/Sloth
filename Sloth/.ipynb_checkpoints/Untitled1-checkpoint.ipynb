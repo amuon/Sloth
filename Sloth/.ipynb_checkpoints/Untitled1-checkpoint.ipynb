{
 "cells": [
  {
   "cell_type": "code",
   "execution_count": 1,
   "id": "approximate-treatment",
   "metadata": {},
   "outputs": [],
   "source": [
    "from frame import DataFrame as df"
   ]
  },
  {
   "cell_type": "code",
   "execution_count": 2,
   "id": "persistent-hollywood",
   "metadata": {},
   "outputs": [],
   "source": [
    "import pandas as pd\n",
    "import numpy as np"
   ]
  },
  {
   "cell_type": "code",
   "execution_count": 8,
   "id": "clear-medicaid",
   "metadata": {},
   "outputs": [],
   "source": [
    "x = r\"C:\\Users\\evanh\\Projects\\AT\\Data\\Binance-BTCUSDT.csv\"\n",
    "pddf = pd.read_csv(x, index_col=0)#, parse_dates=True)"
   ]
  },
  {
   "cell_type": "code",
   "execution_count": 9,
   "id": "pressing-milton",
   "metadata": {},
   "outputs": [],
   "source": [
    "data = df(pddf.values, index=pddf.index._data, columns=pddf.columns._data)"
   ]
  },
  {
   "cell_type": "code",
   "execution_count": 10,
   "id": "forward-athletics",
   "metadata": {
    "scrolled": true
   },
   "outputs": [
    {
     "data": {
      "text/plain": [
       "                              Open     High      Low    Close     Volume  \\\n",
       "2020-01-01 00:05:00+00:00  7179.76  7182.51  7178.20  7179.99  12.463243   \n",
       "2020-01-01 00:06:00+00:00  7180.00  7182.00  7179.99  7182.00   3.573774   \n",
       "\n",
       "                           Quote Asset Volume  Number of Trades  \\\n",
       "2020-01-01 00:05:00+00:00        89484.363535             143.0   \n",
       "2020-01-01 00:06:00+00:00        25662.347910              72.0   \n",
       "\n",
       "                           Taker Buy Base Asset Volume  \\\n",
       "2020-01-01 00:05:00+00:00                     3.652785   \n",
       "2020-01-01 00:06:00+00:00                     1.678855   \n",
       "\n",
       "                           Taker Buy Quote Asset Volume  \n",
       "2020-01-01 00:05:00+00:00                  26225.069623  \n",
       "2020-01-01 00:06:00+00:00                  12055.511055  "
      ]
     },
     "execution_count": 10,
     "metadata": {},
     "output_type": "execute_result"
    }
   ],
   "source": [
    "data.iloc[5:7]"
   ]
  },
  {
   "cell_type": "code",
   "execution_count": null,
   "id": "rubber-resort",
   "metadata": {},
   "outputs": [],
   "source": [
    "pddf[\"2020-01-01 00:05:00+00:00\": \"2020-01-01 00:06:00+00:00\"]"
   ]
  },
  {
   "cell_type": "code",
   "execution_count": null,
   "id": "spiritual-ideal",
   "metadata": {},
   "outputs": [],
   "source": []
  },
  {
   "cell_type": "code",
   "execution_count": 19,
   "id": "green-enzyme",
   "metadata": {},
   "outputs": [],
   "source": [
    "p = np.arange(25).reshape((5, 5))"
   ]
  },
  {
   "cell_type": "code",
   "execution_count": 22,
   "id": "figured-snowboard",
   "metadata": {},
   "outputs": [
    {
     "data": {
      "text/plain": [
       "array([[ 0,  1,  2,  3,  4],\n",
       "       [ 5,  6,  7,  8,  9],\n",
       "       [10, 11, 12, 13, 14],\n",
       "       [15, 16, 17, 18, 19],\n",
       "       [20, 21, 22, 23, 24]])"
      ]
     },
     "execution_count": 22,
     "metadata": {},
     "output_type": "execute_result"
    }
   ],
   "source": [
    "p[0:5]"
   ]
  },
  {
   "cell_type": "code",
   "execution_count": 6,
   "id": "sexual-juice",
   "metadata": {},
   "outputs": [
    {
     "data": {
      "text/plain": [
       "numpy.timedelta64(1,'h')"
      ]
     },
     "execution_count": 6,
     "metadata": {},
     "output_type": "execute_result"
    }
   ],
   "source": [
    "# Frequency = 24 hrs\n",
    "freq = np.timedelta64(1, \"h\")#.astype(\"timedelta64[ns]\").astype(np.int64)\n",
    "freq"
   ]
  },
  {
   "cell_type": "code",
   "execution_count": null,
   "id": "conservative-possession",
   "metadata": {},
   "outputs": [],
   "source": [
    "class A(object):\n",
    "    def x(self):\n",
    "        return self.__new__(self.__class__)\n",
    "class B(A):\n",
    "    pass\n",
    "a = B()\n",
    "print(id(a))\n",
    "print(id(a.x()))"
   ]
  },
  {
   "cell_type": "code",
   "execution_count": null,
   "id": "beautiful-rental",
   "metadata": {},
   "outputs": [],
   "source": [
    "x = 1"
   ]
  },
  {
   "cell_type": "code",
   "execution_count": 11,
   "id": "productive-horror",
   "metadata": {},
   "outputs": [
    {
     "ename": "TypeError",
     "evalue": "Cannot convert index.ObjectIndex to index.DateTimeIndex",
     "output_type": "error",
     "traceback": [
      "\u001b[1;31m---------------------------------------------------------------------------\u001b[0m",
      "\u001b[1;31mTypeError\u001b[0m                                 Traceback (most recent call last)",
      "\u001b[1;32m<ipython-input-11-27182bc79b87>\u001b[0m in \u001b[0;36m<module>\u001b[1;34m\u001b[0m\n\u001b[1;32m----> 1\u001b[1;33m \u001b[0mres\u001b[0m \u001b[1;33m=\u001b[0m \u001b[0mdata\u001b[0m\u001b[1;33m.\u001b[0m\u001b[0mresample\u001b[0m\u001b[1;33m(\u001b[0m\u001b[0mfreq\u001b[0m\u001b[1;33m)\u001b[0m\u001b[1;33m\u001b[0m\u001b[1;33m\u001b[0m\u001b[0m\n\u001b[0m",
      "\u001b[1;32m~\\Projects\\Sloth\\Sloth\\Sloth\\frame.pyx\u001b[0m in \u001b[0;36mframe.Frame.resample\u001b[1;34m()\u001b[0m\n\u001b[0;32m     73\u001b[0m \u001b[1;33m\u001b[0m\u001b[0m\n\u001b[0;32m     74\u001b[0m     \u001b[1;32mdef\u001b[0m \u001b[0mresample\u001b[0m\u001b[1;33m(\u001b[0m\u001b[0mself\u001b[0m\u001b[1;33m,\u001b[0m \u001b[0mfreq\u001b[0m\u001b[1;33m)\u001b[0m\u001b[1;33m:\u001b[0m\u001b[1;33m\u001b[0m\u001b[1;33m\u001b[0m\u001b[0m\n\u001b[1;32m---> 75\u001b[1;33m         \u001b[1;32mreturn\u001b[0m \u001b[0mResampler\u001b[0m\u001b[1;33m(\u001b[0m\u001b[0mself\u001b[0m\u001b[1;33m,\u001b[0m \u001b[0mfreq\u001b[0m\u001b[1;33m)\u001b[0m\u001b[1;33m\u001b[0m\u001b[1;33m\u001b[0m\u001b[0m\n\u001b[0m\u001b[0;32m     76\u001b[0m \u001b[1;33m\u001b[0m\u001b[0m\n\u001b[0;32m     77\u001b[0m     \u001b[1;32mdef\u001b[0m \u001b[0mfast_init\u001b[0m\u001b[1;33m(\u001b[0m\u001b[0mself\u001b[0m\u001b[1;33m,\u001b[0m \u001b[0mlocation\u001b[0m\u001b[1;33m:\u001b[0m \u001b[0mstr\u001b[0m\u001b[1;33m,\u001b[0m \u001b[0mdisplacement\u001b[0m\u001b[1;33m:\u001b[0m \u001b[0mtuple\u001b[0m\u001b[1;33m)\u001b[0m\u001b[1;33m:\u001b[0m\u001b[1;33m\u001b[0m\u001b[1;33m\u001b[0m\u001b[0m\n",
      "\u001b[1;32m~\\Projects\\Sloth\\Sloth\\Sloth\\resample.pyx\u001b[0m in \u001b[0;36mresample.Resampler.__init__\u001b[1;34m()\u001b[0m\n\u001b[0;32m     13\u001b[0m \u001b[1;33m\u001b[0m\u001b[0m\n\u001b[0;32m     14\u001b[0m         \u001b[0mself\u001b[0m\u001b[1;33m.\u001b[0m\u001b[0mframe\u001b[0m \u001b[1;33m=\u001b[0m \u001b[0mframe\u001b[0m\u001b[1;33m\u001b[0m\u001b[1;33m\u001b[0m\u001b[0m\n\u001b[1;32m---> 15\u001b[1;33m         \u001b[0mself\u001b[0m\u001b[1;33m.\u001b[0m\u001b[0mindex\u001b[0m \u001b[1;33m=\u001b[0m \u001b[0mframe\u001b[0m\u001b[1;33m.\u001b[0m\u001b[0mindex\u001b[0m\u001b[1;33m\u001b[0m\u001b[1;33m\u001b[0m\u001b[0m\n\u001b[0m\u001b[0;32m     16\u001b[0m         \u001b[0mcdef\u001b[0m \u001b[0mdatetime64\u001b[0m\u001b[1;33m[\u001b[0m\u001b[1;33m:\u001b[0m\u001b[1;33m]\u001b[0m \u001b[0mkeys\u001b[0m \u001b[1;33m=\u001b[0m \u001b[0mself\u001b[0m\u001b[1;33m.\u001b[0m\u001b[0mindex\u001b[0m\u001b[1;33m.\u001b[0m\u001b[0mkeys\u001b[0m\u001b[1;33m\u001b[0m\u001b[1;33m\u001b[0m\u001b[0m\n\u001b[0;32m     17\u001b[0m \u001b[1;33m\u001b[0m\u001b[0m\n",
      "\u001b[1;31mTypeError\u001b[0m: Cannot convert index.ObjectIndex to index.DateTimeIndex"
     ]
    }
   ],
   "source": [
    "res = data.resample(freq)"
   ]
  },
  {
   "cell_type": "code",
   "execution_count": null,
   "id": "tender-sacramento",
   "metadata": {},
   "outputs": [],
   "source": [
    "for group in range(len(res.groups) - 1):\n",
    "    ret = data.iloc[res.groups[group]: res.groups[group + 1]]\n",
    "    if ret.values.size != 0:\n",
    "        print(ret)\n",
    "        break"
   ]
  },
  {
   "cell_type": "code",
   "execution_count": null,
   "id": "aggressive-visibility",
   "metadata": {},
   "outputs": [],
   "source": [
    "data.iloc[res.groups[0]: res.groups[1]]"
   ]
  },
  {
   "cell_type": "code",
   "execution_count": null,
   "id": "premium-pride",
   "metadata": {},
   "outputs": [],
   "source": [
    "data.index.BD"
   ]
  },
  {
   "cell_type": "code",
   "execution_count": null,
   "id": "tight-indonesian",
   "metadata": {},
   "outputs": [],
   "source": [
    "pddf.index._data._data.view(np.int64)#.view(\"datetime64[ns]\")"
   ]
  },
  {
   "cell_type": "code",
   "execution_count": null,
   "id": "collaborative-sunrise",
   "metadata": {},
   "outputs": [],
   "source": [
    "from index import DateTimeIndex"
   ]
  },
  {
   "cell_type": "code",
   "execution_count": null,
   "id": "inside-socket",
   "metadata": {},
   "outputs": [],
   "source": [
    "dt = DateTimeIndex(pddf.index._data._data)"
   ]
  },
  {
   "cell_type": "code",
   "execution_count": null,
   "id": "interesting-rotation",
   "metadata": {},
   "outputs": [],
   "source": [
    "k = dt.keys\n",
    "k[60]"
   ]
  },
  {
   "cell_type": "code",
   "execution_count": null,
   "id": "turkish-phrase",
   "metadata": {},
   "outputs": [],
   "source": [
    "bins[1]"
   ]
  },
  {
   "cell_type": "code",
   "execution_count": null,
   "id": "boolean-country",
   "metadata": {},
   "outputs": [],
   "source": [
    "# Assuming that k is sorted\n",
    "# We create bins from k[0] to k[-1]\n",
    "# With a new bin every 24 hours\n",
    "bins = np.arange(k[0], k[-1], freq, dtype=np.int64)\n",
    "np.searchsorted(k, bins)"
   ]
  },
  {
   "cell_type": "code",
   "execution_count": null,
   "id": "signed-integral",
   "metadata": {},
   "outputs": [],
   "source": [
    "'2020-01-01 00:00:00+00:00' is in pddf.index"
   ]
  },
  {
   "cell_type": "code",
   "execution_count": null,
   "id": "flush-accent",
   "metadata": {},
   "outputs": [],
   "source": [
    "4 in pd.RangeIndex(start=5)"
   ]
  },
  {
   "cell_type": "code",
   "execution_count": null,
   "id": "collaborative-recognition",
   "metadata": {},
   "outputs": [],
   "source": [
    "%timeit pddf[\"Test\"] = pddf[\"Volume\"].values"
   ]
  },
  {
   "cell_type": "code",
   "execution_count": null,
   "id": "dense-priority",
   "metadata": {},
   "outputs": [],
   "source": [
    "%timeit data[\"Test\"] = pddf[\"Volume\"].values"
   ]
  },
  {
   "cell_type": "code",
   "execution_count": null,
   "id": "smart-coordinator",
   "metadata": {},
   "outputs": [],
   "source": [
    "a = np.array([[1, 2], [3, 4]])\n",
    "b = np.array([[5, 6]])\n",
    "np.concatenate((a, b.T), axis=1)\n",
    "b.T.shape"
   ]
  },
  {
   "cell_type": "code",
   "execution_count": null,
   "id": "nervous-agent",
   "metadata": {},
   "outputs": [],
   "source": [
    "pddf[\"Volume\"].values.shape"
   ]
  },
  {
   "cell_type": "code",
   "execution_count": null,
   "id": "female-grammar",
   "metadata": {},
   "outputs": [],
   "source": [
    "data.loc[\"2020-01-01 00:00:00+00:00\": \"2020-08-05 01:18:00+00:00\"]"
   ]
  },
  {
   "cell_type": "code",
   "execution_count": null,
   "id": "brown-familiar",
   "metadata": {},
   "outputs": [],
   "source": [
    "data"
   ]
  },
  {
   "cell_type": "code",
   "execution_count": null,
   "id": "activated-observer",
   "metadata": {},
   "outputs": [],
   "source": [
    "og = [\"A\", \"B\", \"C\", \"D\"]\n",
    "ti = [\"A\", \"X\", \"Y\", \"Z\", \"B\", \"D\", \"E\"]\n",
    "\n",
    "odg = np.ones((4, 10))"
   ]
  },
  {
   "cell_type": "code",
   "execution_count": null,
   "id": "bibliographic-tattoo",
   "metadata": {},
   "outputs": [],
   "source": [
    "np.concatenate((data.values, np.transpose([pddf[\"Volume\"].values])), axis=1)"
   ]
  },
  {
   "cell_type": "code",
   "execution_count": null,
   "id": "mighty-training",
   "metadata": {},
   "outputs": [],
   "source": [
    "len_columns = 10\n",
    "len_index = len(ti)\n",
    "l = np.zeros((len_index, len_columns))\n",
    "for target_index in range(len(ti)):\n",
    "    for i in range(len(og)):\n",
    "        if ti[target_index] == og[i]:\n",
    "            l[target_index] = odg[i]\n",
    "l"
   ]
  },
  {
   "cell_type": "code",
   "execution_count": null,
   "id": "standard-champagne",
   "metadata": {},
   "outputs": [],
   "source": [
    "type(data.values_)"
   ]
  },
  {
   "cell_type": "code",
   "execution_count": null,
   "id": "macro-examination",
   "metadata": {},
   "outputs": [],
   "source": [
    "l.shape == (7,10)"
   ]
  },
  {
   "cell_type": "code",
   "execution_count": null,
   "id": "coupled-reunion",
   "metadata": {
    "scrolled": true
   },
   "outputs": [],
   "source": [
    "arg = slice(None, 5)\n",
    "arg.start >= 0"
   ]
  },
  {
   "cell_type": "code",
   "execution_count": null,
   "id": "informational-glossary",
   "metadata": {},
   "outputs": [],
   "source": [
    "class MathTest:\n",
    "    def __init__(self, val):\n",
    "        self.x = val\n",
    "    def printt(self):\n",
    "        print(self.x)\n",
    "    def __add__(self, other):\n",
    "        print(self.x, other)\n",
    "        return self.x + other\n",
    "    def __radd__(self, other):\n",
    "        print(self, other)\n",
    "        return self.x + other"
   ]
  },
  {
   "cell_type": "code",
   "execution_count": null,
   "id": "crude-college",
   "metadata": {},
   "outputs": [],
   "source": [
    "test1 = MathTest(5)\n",
    "test2 = MathTest(4)\n",
    "\n",
    "y = np.arange(10, 20)\n",
    "test1 + test2"
   ]
  },
  {
   "cell_type": "code",
   "execution_count": null,
   "id": "retired-candle",
   "metadata": {},
   "outputs": [],
   "source": [
    "test2 + test1"
   ]
  },
  {
   "cell_type": "code",
   "execution_count": null,
   "id": "conscious-engine",
   "metadata": {},
   "outputs": [],
   "source": [
    "np.array(np.array([5,4,5]))"
   ]
  },
  {
   "cell_type": "code",
   "execution_count": null,
   "id": "developing-marketing",
   "metadata": {},
   "outputs": [],
   "source": [
    "pddf.index = pd.RangeIndex(0)"
   ]
  },
  {
   "cell_type": "code",
   "execution_count": null,
   "id": "committed-divide",
   "metadata": {},
   "outputs": [],
   "source": [
    "class Testing:\n",
    "    a = {\"Open\": 5}\n",
    "    def __getattr__(self, attr):\n",
    "        return self.a[attr]"
   ]
  },
  {
   "cell_type": "code",
   "execution_count": null,
   "id": "comparative-charity",
   "metadata": {},
   "outputs": [],
   "source": [
    "test = Testing()\n",
    "test.Open"
   ]
  }
 ],
 "metadata": {
  "kernelspec": {
   "display_name": "Python 3",
   "language": "python",
   "name": "python3"
  },
  "language_info": {
   "codemirror_mode": {
    "name": "ipython",
    "version": 3
   },
   "file_extension": ".py",
   "mimetype": "text/x-python",
   "name": "python",
   "nbconvert_exporter": "python",
   "pygments_lexer": "ipython3",
   "version": "3.8.5"
  }
 },
 "nbformat": 4,
 "nbformat_minor": 5
}
