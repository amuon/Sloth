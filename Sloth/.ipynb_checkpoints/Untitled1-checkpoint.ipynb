{
 "cells": [
  {
   "cell_type": "code",
   "execution_count": 1,
   "id": "stuffed-creativity",
   "metadata": {},
   "outputs": [],
   "source": [
    "from frame import DataFrame as df"
   ]
  },
  {
   "cell_type": "code",
   "execution_count": 2,
   "id": "brazilian-rotation",
   "metadata": {},
   "outputs": [],
   "source": [
    "import pandas as pd\n",
    "import numpy as np"
   ]
  },
  {
   "cell_type": "code",
   "execution_count": 3,
   "id": "figured-actor",
   "metadata": {},
   "outputs": [],
   "source": [
    "x = r\"C:\\Users\\evanh\\Projects\\AT\\Data\\Binance-BTCUSDT.csv\"\n",
    "pddf = pd.read_csv(x, index_col=0)"
   ]
  },
  {
   "cell_type": "code",
   "execution_count": 4,
   "id": "norman-gasoline",
   "metadata": {},
   "outputs": [
    {
     "data": {
      "text/plain": [
       "array(['2020-01-01 00:00:00+00:00', '2020-01-01 00:01:00+00:00',\n",
       "       '2020-01-01 00:02:00+00:00', ..., '2020-08-05 01:20:00+00:00',\n",
       "       '2020-08-05 01:21:00+00:00', '2020-08-05 01:22:00+00:00'],\n",
       "      dtype=object)"
      ]
     },
     "execution_count": 4,
     "metadata": {},
     "output_type": "execute_result"
    }
   ],
   "source": [
    "np.asarray(pddf.index)"
   ]
  },
  {
   "cell_type": "code",
   "execution_count": 5,
   "id": "unable-brick",
   "metadata": {},
   "outputs": [],
   "source": [
    "data = df.from_pandas(pddf)"
   ]
  },
  {
   "cell_type": "code",
   "execution_count": 7,
   "id": "thorough-comparative",
   "metadata": {},
   "outputs": [
    {
     "data": {
      "text/plain": [
       "311661"
      ]
     },
     "execution_count": 7,
     "metadata": {},
     "output_type": "execute_result"
    }
   ],
   "source": [
    "len(data)"
   ]
  },
  {
   "cell_type": "code",
   "execution_count": 7,
   "id": "broken-elite",
   "metadata": {},
   "outputs": [
    {
     "ename": "AttributeError",
     "evalue": "'values' cannot be modified",
     "output_type": "error",
     "traceback": [
      "\u001b[1;31m---------------------------------------------------------------------------\u001b[0m",
      "\u001b[1;31mAttributeError\u001b[0m                            Traceback (most recent call last)",
      "\u001b[1;32m<ipython-input-7-ded3d2af2f85>\u001b[0m in \u001b[0;36m<module>\u001b[1;34m\u001b[0m\n\u001b[1;32m----> 1\u001b[1;33m \u001b[0mdata\u001b[0m\u001b[1;33m.\u001b[0m\u001b[0mvalues\u001b[0m \u001b[1;33m=\u001b[0m \u001b[1;36m0\u001b[0m\u001b[1;33m\u001b[0m\u001b[1;33m\u001b[0m\u001b[0m\n\u001b[0m",
      "\u001b[1;32m~\\Projects\\Sloth\\Sloth\\Sloth\\frame.pyx\u001b[0m in \u001b[0;36mframe.Frame.__setattr__\u001b[1;34m()\u001b[0m\n\u001b[0;32m     68\u001b[0m     \u001b[1;32mdef\u001b[0m \u001b[0m__setattr__\u001b[0m\u001b[1;33m(\u001b[0m\u001b[0mself\u001b[0m\u001b[1;33m,\u001b[0m \u001b[0marg\u001b[0m\u001b[1;33m,\u001b[0m \u001b[0mvalue\u001b[0m\u001b[1;33m)\u001b[0m\u001b[1;33m:\u001b[0m\u001b[1;33m\u001b[0m\u001b[1;33m\u001b[0m\u001b[0m\n\u001b[0;32m     69\u001b[0m         \u001b[1;32mif\u001b[0m \u001b[0marg\u001b[0m \u001b[1;33m==\u001b[0m \u001b[1;34m\"values\"\u001b[0m\u001b[1;33m:\u001b[0m\u001b[1;33m\u001b[0m\u001b[1;33m\u001b[0m\u001b[0m\n\u001b[1;32m---> 70\u001b[1;33m             \u001b[1;32mraise\u001b[0m \u001b[0mAttributeError\u001b[0m\u001b[1;33m(\u001b[0m\u001b[1;34m\"'values' cannot be modified\"\u001b[0m\u001b[1;33m)\u001b[0m\u001b[1;33m\u001b[0m\u001b[1;33m\u001b[0m\u001b[0m\n\u001b[0m\u001b[0;32m     71\u001b[0m         \u001b[1;32melse\u001b[0m\u001b[1;33m:\u001b[0m\u001b[1;33m\u001b[0m\u001b[1;33m\u001b[0m\u001b[0m\n\u001b[0;32m     72\u001b[0m             \u001b[0msetattr\u001b[0m\u001b[1;33m(\u001b[0m\u001b[0mself\u001b[0m\u001b[1;33m,\u001b[0m \u001b[0marg\u001b[0m\u001b[1;33m,\u001b[0m \u001b[0mvalue\u001b[0m\u001b[1;33m)\u001b[0m\u001b[1;33m\u001b[0m\u001b[1;33m\u001b[0m\u001b[0m\n",
      "\u001b[1;31mAttributeError\u001b[0m: 'values' cannot be modified"
     ]
    }
   ],
   "source": [
    "data.values = 0"
   ]
  },
  {
   "cell_type": "code",
   "execution_count": 9,
   "id": "interested-tyler",
   "metadata": {},
   "outputs": [
    {
     "data": {
      "text/plain": [
       "dtype('float64')"
      ]
     },
     "execution_count": 9,
     "metadata": {},
     "output_type": "execute_result"
    }
   ],
   "source": [
    "data.dtype"
   ]
  },
  {
   "cell_type": "code",
   "execution_count": 12,
   "id": "restricted-airport",
   "metadata": {},
   "outputs": [
    {
     "data": {
      "text/plain": [
       "dtype('float64')"
      ]
     },
     "execution_count": 12,
     "metadata": {},
     "output_type": "execute_result"
    }
   ],
   "source": [
    "np.dtype(np.float64)"
   ]
  },
  {
   "cell_type": "code",
   "execution_count": 6,
   "id": "changed-average",
   "metadata": {},
   "outputs": [],
   "source": [
    "data[\"Test\"] = (data[\"Open\"] + data[\"High\"])"
   ]
  },
  {
   "cell_type": "code",
   "execution_count": 8,
   "id": "prime-newport",
   "metadata": {},
   "outputs": [
    {
     "ename": "AttributeError",
     "evalue": "'str' object has no attribute 'values'",
     "output_type": "error",
     "traceback": [
      "\u001b[1;31m---------------------------------------------------------------------------\u001b[0m",
      "\u001b[1;31mAttributeError\u001b[0m                            Traceback (most recent call last)",
      "\u001b[1;32m<ipython-input-8-8bde1b6a5295>\u001b[0m in \u001b[0;36m<module>\u001b[1;34m\u001b[0m\n\u001b[1;32m----> 1\u001b[1;33m \u001b[0mnp\u001b[0m\u001b[1;33m.\u001b[0m\u001b[0mconcatenate\u001b[0m\u001b[1;33m(\u001b[0m\u001b[1;33m(\u001b[0m\u001b[0mdata\u001b[0m\u001b[1;33m.\u001b[0m\u001b[0mvalues\u001b[0m\u001b[1;33m,\u001b[0m \u001b[0mnp\u001b[0m\u001b[1;33m.\u001b[0m\u001b[0mtranspose\u001b[0m\u001b[1;33m(\u001b[0m\u001b[1;33m[\u001b[0m\u001b[0mx\u001b[0m\u001b[1;33m.\u001b[0m\u001b[0mvalues\u001b[0m\u001b[1;33m]\u001b[0m\u001b[1;33m)\u001b[0m\u001b[1;33m)\u001b[0m\u001b[1;33m,\u001b[0m \u001b[0maxis\u001b[0m\u001b[1;33m=\u001b[0m\u001b[1;36m1\u001b[0m\u001b[1;33m)\u001b[0m\u001b[1;33m\u001b[0m\u001b[1;33m\u001b[0m\u001b[0m\n\u001b[0m",
      "\u001b[1;31mAttributeError\u001b[0m: 'str' object has no attribute 'values'"
     ]
    }
   ],
   "source": [
    "np.concatenate((data.values, np.transpose([x.values])), axis=1)"
   ]
  },
  {
   "cell_type": "code",
   "execution_count": 7,
   "id": "distinct-syracuse",
   "metadata": {},
   "outputs": [
    {
     "data": {
      "text/plain": [
       "                               Open      High       Low     Close      Volume  \\\n",
       "2020-01-01 00:00:00+00:00   7195.24   7196.25   7183.14   7186.68   51.642812   \n",
       "2020-01-01 00:01:00+00:00   7187.67   7188.06   7182.20   7184.03    7.248148   \n",
       "2020-01-01 00:02:00+00:00   7184.41   7184.71   7180.26   7182.43   11.681677   \n",
       "2020-01-01 00:03:00+00:00   7183.83   7188.94   7182.49   7185.94   10.025391   \n",
       "2020-01-01 00:04:00+00:00   7185.54   7185.54   7178.64   7179.78   14.911105   \n",
       "...                             ...       ...       ...       ...         ...   \n",
       "2020-08-05 01:18:00+00:00  11109.51  11134.40  11108.93  11134.06  104.428285   \n",
       "2020-08-05 01:19:00+00:00  11134.06  11143.62  11128.20  11137.47   48.064197   \n",
       "2020-08-05 01:20:00+00:00  11137.90  11147.49  11137.86  11146.54   28.478450   \n",
       "2020-08-05 01:21:00+00:00  11145.99  11154.87  11145.79  11153.80   32.099866   \n",
       "2020-08-05 01:22:00+00:00  11153.70  11155.00  11149.66  11154.99    3.773971   \n",
       "\n",
       "                           Quote Asset Volume  Number of Trades  \\\n",
       "2020-01-01 00:00:00+00:00        3.712335e+05             493.0   \n",
       "2020-01-01 00:01:00+00:00        5.208013e+04             135.0   \n",
       "2020-01-01 00:02:00+00:00        8.390374e+04             202.0   \n",
       "2020-01-01 00:03:00+00:00        7.203323e+04             136.0   \n",
       "2020-01-01 00:04:00+00:00        1.070665e+05             161.0   \n",
       "...                                       ...               ...   \n",
       "2020-08-05 01:18:00+00:00        1.161662e+06            1353.0   \n",
       "2020-08-05 01:19:00+00:00        5.352401e+05             903.0   \n",
       "2020-08-05 01:20:00+00:00        3.173765e+05             593.0   \n",
       "2020-08-05 01:21:00+00:00        3.579315e+05             545.0   \n",
       "2020-08-05 01:22:00+00:00        4.208986e+04             150.0   \n",
       "\n",
       "                           Taker Buy Base Asset Volume  \\\n",
       "2020-01-01 00:00:00+00:00                    19.598230   \n",
       "2020-01-01 00:01:00+00:00                     2.031772   \n",
       "2020-01-01 00:02:00+00:00                     5.479244   \n",
       "2020-01-01 00:03:00+00:00                     3.294966   \n",
       "2020-01-01 00:04:00+00:00                     2.369033   \n",
       "...                                                ...   \n",
       "2020-08-05 01:18:00+00:00                    36.331549   \n",
       "2020-08-05 01:19:00+00:00                    29.314459   \n",
       "2020-08-05 01:20:00+00:00                    13.508617   \n",
       "2020-08-05 01:21:00+00:00                    17.392233   \n",
       "2020-08-05 01:22:00+00:00                     1.327460   \n",
       "\n",
       "                           Taker Buy Quote Asset Volume      Test  \n",
       "2020-01-01 00:00:00+00:00                 140888.414283  14391.49  \n",
       "2020-01-01 00:01:00+00:00                  14599.211924  14375.73  \n",
       "2020-01-01 00:02:00+00:00                  39357.081776  14369.12  \n",
       "2020-01-01 00:03:00+00:00                  23680.571924  14372.77  \n",
       "2020-01-01 00:04:00+00:00                  17012.015138  14371.08  \n",
       "...                                                 ...       ...  \n",
       "2020-08-05 01:18:00+00:00                 404114.605794  22243.91  \n",
       "2020-08-05 01:19:00+00:00                 326451.411974  22277.68  \n",
       "2020-08-05 01:20:00+00:00                 150542.150379  22285.39  \n",
       "2020-08-05 01:21:00+00:00                 193931.843741  22300.86  \n",
       "2020-08-05 01:22:00+00:00                  14803.779572  22308.70  \n",
       "\n",
       "[311661 rows x 10 columns]"
      ]
     },
     "execution_count": 7,
     "metadata": {},
     "output_type": "execute_result"
    }
   ],
   "source": [
    "'2020-01-01 00:00:00+00:00' is in pddf.index"
   ]
  },
  {
   "cell_type": "code",
   "execution_count": 10,
   "id": "arctic-reminder",
   "metadata": {},
   "outputs": [
    {
     "data": {
      "text/plain": [
       "True"
      ]
     },
     "execution_count": 10,
     "metadata": {},
     "output_type": "execute_result"
    }
   ],
   "source": [
    "4 in pd.RangeIndex(start=5)"
   ]
  },
  {
   "cell_type": "code",
   "execution_count": 11,
   "id": "sudden-maple",
   "metadata": {},
   "outputs": [
    {
     "ename": "KeyboardInterrupt",
     "evalue": "",
     "output_type": "error",
     "traceback": [
      "\u001b[1;31m---------------------------------------------------------------------------\u001b[0m",
      "\u001b[1;31mKeyboardInterrupt\u001b[0m                         Traceback (most recent call last)",
      "\u001b[1;32m<ipython-input-11-a69ea25552ef>\u001b[0m in \u001b[0;36m<module>\u001b[1;34m\u001b[0m\n\u001b[1;32m----> 1\u001b[1;33m \u001b[0mget_ipython\u001b[0m\u001b[1;33m(\u001b[0m\u001b[1;33m)\u001b[0m\u001b[1;33m.\u001b[0m\u001b[0mrun_line_magic\u001b[0m\u001b[1;33m(\u001b[0m\u001b[1;34m'timeit'\u001b[0m\u001b[1;33m,\u001b[0m \u001b[1;34m'pddf[\"Test\"] = pddf[\"Volume\"].values'\u001b[0m\u001b[1;33m)\u001b[0m\u001b[1;33m\u001b[0m\u001b[1;33m\u001b[0m\u001b[0m\n\u001b[0m",
      "\u001b[1;32m~\\anaconda3\\envs\\sloth\\lib\\site-packages\\IPython\\core\\interactiveshell.py\u001b[0m in \u001b[0;36mrun_line_magic\u001b[1;34m(self, magic_name, line, _stack_depth)\u001b[0m\n\u001b[0;32m   2334\u001b[0m                 \u001b[0mkwargs\u001b[0m\u001b[1;33m[\u001b[0m\u001b[1;34m'local_ns'\u001b[0m\u001b[1;33m]\u001b[0m \u001b[1;33m=\u001b[0m \u001b[0mself\u001b[0m\u001b[1;33m.\u001b[0m\u001b[0mget_local_scope\u001b[0m\u001b[1;33m(\u001b[0m\u001b[0mstack_depth\u001b[0m\u001b[1;33m)\u001b[0m\u001b[1;33m\u001b[0m\u001b[1;33m\u001b[0m\u001b[0m\n\u001b[0;32m   2335\u001b[0m             \u001b[1;32mwith\u001b[0m \u001b[0mself\u001b[0m\u001b[1;33m.\u001b[0m\u001b[0mbuiltin_trap\u001b[0m\u001b[1;33m:\u001b[0m\u001b[1;33m\u001b[0m\u001b[1;33m\u001b[0m\u001b[0m\n\u001b[1;32m-> 2336\u001b[1;33m                 \u001b[0mresult\u001b[0m \u001b[1;33m=\u001b[0m \u001b[0mfn\u001b[0m\u001b[1;33m(\u001b[0m\u001b[1;33m*\u001b[0m\u001b[0margs\u001b[0m\u001b[1;33m,\u001b[0m \u001b[1;33m**\u001b[0m\u001b[0mkwargs\u001b[0m\u001b[1;33m)\u001b[0m\u001b[1;33m\u001b[0m\u001b[1;33m\u001b[0m\u001b[0m\n\u001b[0m\u001b[0;32m   2337\u001b[0m             \u001b[1;32mreturn\u001b[0m \u001b[0mresult\u001b[0m\u001b[1;33m\u001b[0m\u001b[1;33m\u001b[0m\u001b[0m\n\u001b[0;32m   2338\u001b[0m \u001b[1;33m\u001b[0m\u001b[0m\n",
      "\u001b[1;32m<decorator-gen-54>\u001b[0m in \u001b[0;36mtimeit\u001b[1;34m(self, line, cell, local_ns)\u001b[0m\n",
      "\u001b[1;32m~\\anaconda3\\envs\\sloth\\lib\\site-packages\\IPython\\core\\magic.py\u001b[0m in \u001b[0;36m<lambda>\u001b[1;34m(f, *a, **k)\u001b[0m\n\u001b[0;32m    185\u001b[0m     \u001b[1;31m# but it's overkill for just that one bit of state.\u001b[0m\u001b[1;33m\u001b[0m\u001b[1;33m\u001b[0m\u001b[1;33m\u001b[0m\u001b[0m\n\u001b[0;32m    186\u001b[0m     \u001b[1;32mdef\u001b[0m \u001b[0mmagic_deco\u001b[0m\u001b[1;33m(\u001b[0m\u001b[0marg\u001b[0m\u001b[1;33m)\u001b[0m\u001b[1;33m:\u001b[0m\u001b[1;33m\u001b[0m\u001b[1;33m\u001b[0m\u001b[0m\n\u001b[1;32m--> 187\u001b[1;33m         \u001b[0mcall\u001b[0m \u001b[1;33m=\u001b[0m \u001b[1;32mlambda\u001b[0m \u001b[0mf\u001b[0m\u001b[1;33m,\u001b[0m \u001b[1;33m*\u001b[0m\u001b[0ma\u001b[0m\u001b[1;33m,\u001b[0m \u001b[1;33m**\u001b[0m\u001b[0mk\u001b[0m\u001b[1;33m:\u001b[0m \u001b[0mf\u001b[0m\u001b[1;33m(\u001b[0m\u001b[1;33m*\u001b[0m\u001b[0ma\u001b[0m\u001b[1;33m,\u001b[0m \u001b[1;33m**\u001b[0m\u001b[0mk\u001b[0m\u001b[1;33m)\u001b[0m\u001b[1;33m\u001b[0m\u001b[1;33m\u001b[0m\u001b[0m\n\u001b[0m\u001b[0;32m    188\u001b[0m \u001b[1;33m\u001b[0m\u001b[0m\n\u001b[0;32m    189\u001b[0m         \u001b[1;32mif\u001b[0m \u001b[0mcallable\u001b[0m\u001b[1;33m(\u001b[0m\u001b[0marg\u001b[0m\u001b[1;33m)\u001b[0m\u001b[1;33m:\u001b[0m\u001b[1;33m\u001b[0m\u001b[1;33m\u001b[0m\u001b[0m\n",
      "\u001b[1;32m~\\anaconda3\\envs\\sloth\\lib\\site-packages\\IPython\\core\\magics\\execution.py\u001b[0m in \u001b[0;36mtimeit\u001b[1;34m(self, line, cell, local_ns)\u001b[0m\n\u001b[0;32m   1171\u001b[0m                     \u001b[1;32mbreak\u001b[0m\u001b[1;33m\u001b[0m\u001b[1;33m\u001b[0m\u001b[0m\n\u001b[0;32m   1172\u001b[0m \u001b[1;33m\u001b[0m\u001b[0m\n\u001b[1;32m-> 1173\u001b[1;33m         \u001b[0mall_runs\u001b[0m \u001b[1;33m=\u001b[0m \u001b[0mtimer\u001b[0m\u001b[1;33m.\u001b[0m\u001b[0mrepeat\u001b[0m\u001b[1;33m(\u001b[0m\u001b[0mrepeat\u001b[0m\u001b[1;33m,\u001b[0m \u001b[0mnumber\u001b[0m\u001b[1;33m)\u001b[0m\u001b[1;33m\u001b[0m\u001b[1;33m\u001b[0m\u001b[0m\n\u001b[0m\u001b[0;32m   1174\u001b[0m         \u001b[0mbest\u001b[0m \u001b[1;33m=\u001b[0m \u001b[0mmin\u001b[0m\u001b[1;33m(\u001b[0m\u001b[0mall_runs\u001b[0m\u001b[1;33m)\u001b[0m \u001b[1;33m/\u001b[0m \u001b[0mnumber\u001b[0m\u001b[1;33m\u001b[0m\u001b[1;33m\u001b[0m\u001b[0m\n\u001b[0;32m   1175\u001b[0m         \u001b[0mworst\u001b[0m \u001b[1;33m=\u001b[0m \u001b[0mmax\u001b[0m\u001b[1;33m(\u001b[0m\u001b[0mall_runs\u001b[0m\u001b[1;33m)\u001b[0m \u001b[1;33m/\u001b[0m \u001b[0mnumber\u001b[0m\u001b[1;33m\u001b[0m\u001b[1;33m\u001b[0m\u001b[0m\n",
      "\u001b[1;32m~\\anaconda3\\envs\\sloth\\lib\\timeit.py\u001b[0m in \u001b[0;36mrepeat\u001b[1;34m(self, repeat, number)\u001b[0m\n\u001b[0;32m    203\u001b[0m         \u001b[0mr\u001b[0m \u001b[1;33m=\u001b[0m \u001b[1;33m[\u001b[0m\u001b[1;33m]\u001b[0m\u001b[1;33m\u001b[0m\u001b[1;33m\u001b[0m\u001b[0m\n\u001b[0;32m    204\u001b[0m         \u001b[1;32mfor\u001b[0m \u001b[0mi\u001b[0m \u001b[1;32min\u001b[0m \u001b[0mrange\u001b[0m\u001b[1;33m(\u001b[0m\u001b[0mrepeat\u001b[0m\u001b[1;33m)\u001b[0m\u001b[1;33m:\u001b[0m\u001b[1;33m\u001b[0m\u001b[1;33m\u001b[0m\u001b[0m\n\u001b[1;32m--> 205\u001b[1;33m             \u001b[0mt\u001b[0m \u001b[1;33m=\u001b[0m \u001b[0mself\u001b[0m\u001b[1;33m.\u001b[0m\u001b[0mtimeit\u001b[0m\u001b[1;33m(\u001b[0m\u001b[0mnumber\u001b[0m\u001b[1;33m)\u001b[0m\u001b[1;33m\u001b[0m\u001b[1;33m\u001b[0m\u001b[0m\n\u001b[0m\u001b[0;32m    206\u001b[0m             \u001b[0mr\u001b[0m\u001b[1;33m.\u001b[0m\u001b[0mappend\u001b[0m\u001b[1;33m(\u001b[0m\u001b[0mt\u001b[0m\u001b[1;33m)\u001b[0m\u001b[1;33m\u001b[0m\u001b[1;33m\u001b[0m\u001b[0m\n\u001b[0;32m    207\u001b[0m         \u001b[1;32mreturn\u001b[0m \u001b[0mr\u001b[0m\u001b[1;33m\u001b[0m\u001b[1;33m\u001b[0m\u001b[0m\n",
      "\u001b[1;32m~\\anaconda3\\envs\\sloth\\lib\\site-packages\\IPython\\core\\magics\\execution.py\u001b[0m in \u001b[0;36mtimeit\u001b[1;34m(self, number)\u001b[0m\n\u001b[0;32m    167\u001b[0m         \u001b[0mgc\u001b[0m\u001b[1;33m.\u001b[0m\u001b[0mdisable\u001b[0m\u001b[1;33m(\u001b[0m\u001b[1;33m)\u001b[0m\u001b[1;33m\u001b[0m\u001b[1;33m\u001b[0m\u001b[0m\n\u001b[0;32m    168\u001b[0m         \u001b[1;32mtry\u001b[0m\u001b[1;33m:\u001b[0m\u001b[1;33m\u001b[0m\u001b[1;33m\u001b[0m\u001b[0m\n\u001b[1;32m--> 169\u001b[1;33m             \u001b[0mtiming\u001b[0m \u001b[1;33m=\u001b[0m \u001b[0mself\u001b[0m\u001b[1;33m.\u001b[0m\u001b[0minner\u001b[0m\u001b[1;33m(\u001b[0m\u001b[0mit\u001b[0m\u001b[1;33m,\u001b[0m \u001b[0mself\u001b[0m\u001b[1;33m.\u001b[0m\u001b[0mtimer\u001b[0m\u001b[1;33m)\u001b[0m\u001b[1;33m\u001b[0m\u001b[1;33m\u001b[0m\u001b[0m\n\u001b[0m\u001b[0;32m    170\u001b[0m         \u001b[1;32mfinally\u001b[0m\u001b[1;33m:\u001b[0m\u001b[1;33m\u001b[0m\u001b[1;33m\u001b[0m\u001b[0m\n\u001b[0;32m    171\u001b[0m             \u001b[1;32mif\u001b[0m \u001b[0mgcold\u001b[0m\u001b[1;33m:\u001b[0m\u001b[1;33m\u001b[0m\u001b[1;33m\u001b[0m\u001b[0m\n",
      "\u001b[1;32m<magic-timeit>\u001b[0m in \u001b[0;36minner\u001b[1;34m(_it, _timer)\u001b[0m\n",
      "\u001b[1;32m~\\AppData\\Roaming\\Python\\Python38\\site-packages\\pandas\\core\\frame.py\u001b[0m in \u001b[0;36m__setitem__\u001b[1;34m(self, key, value)\u001b[0m\n\u001b[0;32m   2936\u001b[0m         \u001b[1;32melse\u001b[0m\u001b[1;33m:\u001b[0m\u001b[1;33m\u001b[0m\u001b[1;33m\u001b[0m\u001b[0m\n\u001b[0;32m   2937\u001b[0m             \u001b[1;31m# set column\u001b[0m\u001b[1;33m\u001b[0m\u001b[1;33m\u001b[0m\u001b[1;33m\u001b[0m\u001b[0m\n\u001b[1;32m-> 2938\u001b[1;33m             \u001b[0mself\u001b[0m\u001b[1;33m.\u001b[0m\u001b[0m_set_item\u001b[0m\u001b[1;33m(\u001b[0m\u001b[0mkey\u001b[0m\u001b[1;33m,\u001b[0m \u001b[0mvalue\u001b[0m\u001b[1;33m)\u001b[0m\u001b[1;33m\u001b[0m\u001b[1;33m\u001b[0m\u001b[0m\n\u001b[0m\u001b[0;32m   2939\u001b[0m \u001b[1;33m\u001b[0m\u001b[0m\n\u001b[0;32m   2940\u001b[0m     \u001b[1;32mdef\u001b[0m \u001b[0m_setitem_slice\u001b[0m\u001b[1;33m(\u001b[0m\u001b[0mself\u001b[0m\u001b[1;33m,\u001b[0m \u001b[0mkey\u001b[0m\u001b[1;33m,\u001b[0m \u001b[0mvalue\u001b[0m\u001b[1;33m)\u001b[0m\u001b[1;33m:\u001b[0m\u001b[1;33m\u001b[0m\u001b[1;33m\u001b[0m\u001b[0m\n",
      "\u001b[1;32m~\\AppData\\Roaming\\Python\\Python38\\site-packages\\pandas\\core\\frame.py\u001b[0m in \u001b[0;36m_set_item\u001b[1;34m(self, key, value)\u001b[0m\n\u001b[0;32m   2998\u001b[0m \u001b[1;33m\u001b[0m\u001b[0m\n\u001b[0;32m   2999\u001b[0m         \u001b[0mself\u001b[0m\u001b[1;33m.\u001b[0m\u001b[0m_ensure_valid_index\u001b[0m\u001b[1;33m(\u001b[0m\u001b[0mvalue\u001b[0m\u001b[1;33m)\u001b[0m\u001b[1;33m\u001b[0m\u001b[1;33m\u001b[0m\u001b[0m\n\u001b[1;32m-> 3000\u001b[1;33m         \u001b[0mvalue\u001b[0m \u001b[1;33m=\u001b[0m \u001b[0mself\u001b[0m\u001b[1;33m.\u001b[0m\u001b[0m_sanitize_column\u001b[0m\u001b[1;33m(\u001b[0m\u001b[0mkey\u001b[0m\u001b[1;33m,\u001b[0m \u001b[0mvalue\u001b[0m\u001b[1;33m)\u001b[0m\u001b[1;33m\u001b[0m\u001b[1;33m\u001b[0m\u001b[0m\n\u001b[0m\u001b[0;32m   3001\u001b[0m         \u001b[0mNDFrame\u001b[0m\u001b[1;33m.\u001b[0m\u001b[0m_set_item\u001b[0m\u001b[1;33m(\u001b[0m\u001b[0mself\u001b[0m\u001b[1;33m,\u001b[0m \u001b[0mkey\u001b[0m\u001b[1;33m,\u001b[0m \u001b[0mvalue\u001b[0m\u001b[1;33m)\u001b[0m\u001b[1;33m\u001b[0m\u001b[1;33m\u001b[0m\u001b[0m\n\u001b[0;32m   3002\u001b[0m \u001b[1;33m\u001b[0m\u001b[0m\n",
      "\u001b[1;32m~\\AppData\\Roaming\\Python\\Python38\\site-packages\\pandas\\core\\frame.py\u001b[0m in \u001b[0;36m_sanitize_column\u001b[1;34m(self, key, value, broadcast)\u001b[0m\n\u001b[0;32m   3645\u001b[0m                 \u001b[0mvalue\u001b[0m \u001b[1;33m=\u001b[0m \u001b[0mvalue\u001b[0m\u001b[1;33m.\u001b[0m\u001b[0mcopy\u001b[0m\u001b[1;33m(\u001b[0m\u001b[0mdeep\u001b[0m\u001b[1;33m=\u001b[0m\u001b[1;32mTrue\u001b[0m\u001b[1;33m)\u001b[0m\u001b[1;33m\u001b[0m\u001b[1;33m\u001b[0m\u001b[0m\n\u001b[0;32m   3646\u001b[0m             \u001b[1;32melse\u001b[0m\u001b[1;33m:\u001b[0m\u001b[1;33m\u001b[0m\u001b[1;33m\u001b[0m\u001b[0m\n\u001b[1;32m-> 3647\u001b[1;33m                 \u001b[0mvalue\u001b[0m \u001b[1;33m=\u001b[0m \u001b[0mvalue\u001b[0m\u001b[1;33m.\u001b[0m\u001b[0mcopy\u001b[0m\u001b[1;33m(\u001b[0m\u001b[1;33m)\u001b[0m\u001b[1;33m\u001b[0m\u001b[1;33m\u001b[0m\u001b[0m\n\u001b[0m\u001b[0;32m   3648\u001b[0m \u001b[1;33m\u001b[0m\u001b[0m\n\u001b[0;32m   3649\u001b[0m             \u001b[1;31m# possibly infer to datetimelike\u001b[0m\u001b[1;33m\u001b[0m\u001b[1;33m\u001b[0m\u001b[1;33m\u001b[0m\u001b[0m\n",
      "\u001b[1;31mKeyboardInterrupt\u001b[0m: "
     ]
    }
   ],
   "source": [
    "%timeit pddf[\"Test\"] = pddf[\"Volume\"].values"
   ]
  },
  {
   "cell_type": "code",
   "execution_count": null,
   "id": "necessary-benjamin",
   "metadata": {},
   "outputs": [],
   "source": [
    "%timeit data[\"Test\"] = pddf[\"Volume\"].values"
   ]
  },
  {
   "cell_type": "code",
   "execution_count": 12,
   "id": "senior-victim",
   "metadata": {},
   "outputs": [
    {
     "data": {
      "text/plain": [
       "(2, 1)"
      ]
     },
     "execution_count": 12,
     "metadata": {},
     "output_type": "execute_result"
    }
   ],
   "source": [
    "a = np.array([[1, 2], [3, 4]])\n",
    "b = np.array([[5, 6]])\n",
    "np.concatenate((a, b.T), axis=1)\n",
    "b.T.shape"
   ]
  },
  {
   "cell_type": "code",
   "execution_count": null,
   "id": "demanding-prototype",
   "metadata": {},
   "outputs": [],
   "source": [
    "pddf[\"Volume\"].values.shape"
   ]
  },
  {
   "cell_type": "code",
   "execution_count": null,
   "id": "relevant-aaron",
   "metadata": {},
   "outputs": [],
   "source": [
    "data.loc[\"2020-01-01 00:00:00+00:00\": \"2020-08-05 01:18:00+00:00\"]"
   ]
  },
  {
   "cell_type": "code",
   "execution_count": 9,
   "id": "qualified-orchestra",
   "metadata": {},
   "outputs": [
    {
     "data": {
      "text/plain": [
       "                               Open      High       Low     Close      Volume  \\\n",
       "2020-01-01 00:00:00+00:00   7195.24   7196.25   7183.14   7186.68   51.642812   \n",
       "2020-01-01 00:01:00+00:00   7187.67   7188.06   7182.20   7184.03    7.248148   \n",
       "2020-01-01 00:02:00+00:00   7184.41   7184.71   7180.26   7182.43   11.681677   \n",
       "2020-01-01 00:03:00+00:00   7183.83   7188.94   7182.49   7185.94   10.025391   \n",
       "2020-01-01 00:04:00+00:00   7185.54   7185.54   7178.64   7179.78   14.911105   \n",
       "...                             ...       ...       ...       ...         ...   \n",
       "2020-08-05 01:18:00+00:00  11109.51  11134.40  11108.93  11134.06  104.428285   \n",
       "2020-08-05 01:19:00+00:00  11134.06  11143.62  11128.20  11137.47   48.064197   \n",
       "2020-08-05 01:20:00+00:00  11137.90  11147.49  11137.86  11146.54   28.478450   \n",
       "2020-08-05 01:21:00+00:00  11145.99  11154.87  11145.79  11153.80   32.099866   \n",
       "2020-08-05 01:22:00+00:00  11153.70  11155.00  11149.66  11154.99    3.773971   \n",
       "\n",
       "                           Quote Asset Volume  Number of Trades  \\\n",
       "2020-01-01 00:00:00+00:00        3.712335e+05             493.0   \n",
       "2020-01-01 00:01:00+00:00        5.208013e+04             135.0   \n",
       "2020-01-01 00:02:00+00:00        8.390374e+04             202.0   \n",
       "2020-01-01 00:03:00+00:00        7.203323e+04             136.0   \n",
       "2020-01-01 00:04:00+00:00        1.070665e+05             161.0   \n",
       "...                                       ...               ...   \n",
       "2020-08-05 01:18:00+00:00        1.161662e+06            1353.0   \n",
       "2020-08-05 01:19:00+00:00        5.352401e+05             903.0   \n",
       "2020-08-05 01:20:00+00:00        3.173765e+05             593.0   \n",
       "2020-08-05 01:21:00+00:00        3.579315e+05             545.0   \n",
       "2020-08-05 01:22:00+00:00        4.208986e+04             150.0   \n",
       "\n",
       "                           Taker Buy Base Asset Volume  \\\n",
       "2020-01-01 00:00:00+00:00                    19.598230   \n",
       "2020-01-01 00:01:00+00:00                     2.031772   \n",
       "2020-01-01 00:02:00+00:00                     5.479244   \n",
       "2020-01-01 00:03:00+00:00                     3.294966   \n",
       "2020-01-01 00:04:00+00:00                     2.369033   \n",
       "...                                                ...   \n",
       "2020-08-05 01:18:00+00:00                    36.331549   \n",
       "2020-08-05 01:19:00+00:00                    29.314459   \n",
       "2020-08-05 01:20:00+00:00                    13.508617   \n",
       "2020-08-05 01:21:00+00:00                    17.392233   \n",
       "2020-08-05 01:22:00+00:00                     1.327460   \n",
       "\n",
       "                           Taker Buy Quote Asset Volume      Test  \n",
       "2020-01-01 00:00:00+00:00                 140888.414283  14391.49  \n",
       "2020-01-01 00:01:00+00:00                  14599.211924  14375.73  \n",
       "2020-01-01 00:02:00+00:00                  39357.081776  14369.12  \n",
       "2020-01-01 00:03:00+00:00                  23680.571924  14372.77  \n",
       "2020-01-01 00:04:00+00:00                  17012.015138  14371.08  \n",
       "...                                                 ...       ...  \n",
       "2020-08-05 01:18:00+00:00                 404114.605794  22243.91  \n",
       "2020-08-05 01:19:00+00:00                 326451.411974  22277.68  \n",
       "2020-08-05 01:20:00+00:00                 150542.150379  22285.39  \n",
       "2020-08-05 01:21:00+00:00                 193931.843741  22300.86  \n",
       "2020-08-05 01:22:00+00:00                  14803.779572  22308.70  \n",
       "\n",
       "[311661 rows x 10 columns]"
      ]
     },
     "execution_count": 9,
     "metadata": {},
     "output_type": "execute_result"
    }
   ],
   "source": [
    "data"
   ]
  },
  {
   "cell_type": "code",
   "execution_count": 13,
   "id": "insured-blink",
   "metadata": {},
   "outputs": [],
   "source": [
    "og = [\"A\", \"B\", \"C\", \"D\"]\n",
    "ti = [\"A\", \"X\", \"Y\", \"Z\", \"B\", \"D\", \"E\"]\n",
    "\n",
    "np.ones()"
   ]
  },
  {
   "cell_type": "code",
   "execution_count": null,
   "id": "sticky-reynolds",
   "metadata": {},
   "outputs": [],
   "source": [
    "np.concatenate((data.values, np.transpose([pddf[\"Volume\"].values])), axis=1)"
   ]
  },
  {
   "cell_type": "code",
   "execution_count": 17,
   "id": "sixth-award",
   "metadata": {},
   "outputs": [
    {
     "name": "stdout",
     "output_type": "stream",
     "text": [
      "[[0. 0. 0. 0. 0. 0. 0. 0. 0. 0.]\n",
      " [0. 0. 0. 0. 0. 0. 0. 0. 0. 0.]\n",
      " [0. 0. 0. 0. 0. 0. 0. 0. 0. 0.]\n",
      " [0. 0. 0. 0. 0. 0. 0. 0. 0. 0.]\n",
      " [0. 0. 0. 0. 0. 0. 0. 0. 0. 0.]\n",
      " [0. 0. 0. 0. 0. 0. 0. 0. 0. 0.]\n",
      " [0. 0. 0. 0. 0. 0. 0. 0. 0. 0.]]\n"
     ]
    },
    {
     "data": {
      "text/plain": [
       "array([[1., 1., 1., 1., 1., 1., 1., 1., 1., 1.],\n",
       "       [0., 0., 0., 0., 0., 0., 0., 0., 0., 0.],\n",
       "       [0., 0., 0., 0., 0., 0., 0., 0., 0., 0.],\n",
       "       [0., 0., 0., 0., 0., 0., 0., 0., 0., 0.],\n",
       "       [1., 1., 1., 1., 1., 1., 1., 1., 1., 1.],\n",
       "       [1., 1., 1., 1., 1., 1., 1., 1., 1., 1.],\n",
       "       [0., 0., 0., 0., 0., 0., 0., 0., 0., 0.]])"
      ]
     },
     "execution_count": 17,
     "metadata": {},
     "output_type": "execute_result"
    }
   ],
   "source": [
    "len_columns = 10\n",
    "len_index = len(ti)\n",
    "l = np.zeros((len_index, len_columns))\n",
    "for target_index in range(len(ti)):\n",
    "    for i in range(len(og)):\n",
    "        if ti[target_index] == og[i]:\n",
    "            l[target_index] = odg[i]\n",
    "l"
   ]
  },
  {
   "cell_type": "code",
   "execution_count": null,
   "id": "demanding-spray",
   "metadata": {},
   "outputs": [],
   "source": [
    "type(data.values_)"
   ]
  },
  {
   "cell_type": "code",
   "execution_count": null,
   "id": "stone-banana",
   "metadata": {},
   "outputs": [],
   "source": [
    "l.shape == (7,10)"
   ]
  },
  {
   "cell_type": "code",
   "execution_count": null,
   "id": "express-savings",
   "metadata": {
    "scrolled": true
   },
   "outputs": [],
   "source": [
    "arg = slice(None, 5)\n",
    "arg.start >= 0"
   ]
  },
  {
   "cell_type": "code",
   "execution_count": null,
   "id": "monthly-geography",
   "metadata": {},
   "outputs": [],
   "source": [
    "class MathTest:\n",
    "    def __init__(self, val):\n",
    "        self.x = val\n",
    "    def printt(self):\n",
    "        print(self.x)\n",
    "    def __add__(self, other):\n",
    "        print(self.x, other)\n",
    "        return self.x + other\n",
    "    def __radd__(self, other):\n",
    "        print(self, other)\n",
    "        return self.x + other"
   ]
  },
  {
   "cell_type": "code",
   "execution_count": null,
   "id": "israeli-integrity",
   "metadata": {},
   "outputs": [],
   "source": [
    "test1 = MathTest(5)\n",
    "test2 = MathTest(4)\n",
    "\n",
    "y = np.arange(10, 20)\n",
    "test1 + test2"
   ]
  },
  {
   "cell_type": "code",
   "execution_count": null,
   "id": "agreed-alaska",
   "metadata": {},
   "outputs": [],
   "source": [
    "test2 + test1"
   ]
  },
  {
   "cell_type": "code",
   "execution_count": null,
   "id": "human-musical",
   "metadata": {},
   "outputs": [],
   "source": [
    "np.array(np.array([5,4,5]))"
   ]
  },
  {
   "cell_type": "code",
   "execution_count": 22,
   "id": "informational-release",
   "metadata": {},
   "outputs": [
    {
     "ename": "TypeError",
     "evalue": "RangeIndex(...) must be called with integers",
     "output_type": "error",
     "traceback": [
      "\u001b[1;31m---------------------------------------------------------------------------\u001b[0m",
      "\u001b[1;31mTypeError\u001b[0m                                 Traceback (most recent call last)",
      "\u001b[1;32m<ipython-input-22-dd1a204c7172>\u001b[0m in \u001b[0;36m<module>\u001b[1;34m\u001b[0m\n\u001b[1;32m----> 1\u001b[1;33m \u001b[0mpddf\u001b[0m\u001b[1;33m.\u001b[0m\u001b[0mindex\u001b[0m \u001b[1;33m=\u001b[0m \u001b[0mpd\u001b[0m\u001b[1;33m.\u001b[0m\u001b[0mRangeIndex\u001b[0m\u001b[1;33m(\u001b[0m\u001b[1;33m)\u001b[0m\u001b[1;33m\u001b[0m\u001b[1;33m\u001b[0m\u001b[0m\n\u001b[0m",
      "\u001b[1;32m~\\AppData\\Roaming\\Python\\Python38\\site-packages\\pandas\\core\\indexes\\range.py\u001b[0m in \u001b[0;36m__new__\u001b[1;34m(cls, start, stop, step, dtype, copy, name)\u001b[0m\n\u001b[0;32m     95\u001b[0m         \u001b[1;31m# validate the arguments\u001b[0m\u001b[1;33m\u001b[0m\u001b[1;33m\u001b[0m\u001b[1;33m\u001b[0m\u001b[0m\n\u001b[0;32m     96\u001b[0m         \u001b[1;32mif\u001b[0m \u001b[0mcom\u001b[0m\u001b[1;33m.\u001b[0m\u001b[0mall_none\u001b[0m\u001b[1;33m(\u001b[0m\u001b[0mstart\u001b[0m\u001b[1;33m,\u001b[0m \u001b[0mstop\u001b[0m\u001b[1;33m,\u001b[0m \u001b[0mstep\u001b[0m\u001b[1;33m)\u001b[0m\u001b[1;33m:\u001b[0m\u001b[1;33m\u001b[0m\u001b[1;33m\u001b[0m\u001b[0m\n\u001b[1;32m---> 97\u001b[1;33m             \u001b[1;32mraise\u001b[0m \u001b[0mTypeError\u001b[0m\u001b[1;33m(\u001b[0m\u001b[1;34m\"RangeIndex(...) must be called with integers\"\u001b[0m\u001b[1;33m)\u001b[0m\u001b[1;33m\u001b[0m\u001b[1;33m\u001b[0m\u001b[0m\n\u001b[0m\u001b[0;32m     98\u001b[0m \u001b[1;33m\u001b[0m\u001b[0m\n\u001b[0;32m     99\u001b[0m         \u001b[0mstart\u001b[0m \u001b[1;33m=\u001b[0m \u001b[0mensure_python_int\u001b[0m\u001b[1;33m(\u001b[0m\u001b[0mstart\u001b[0m\u001b[1;33m)\u001b[0m \u001b[1;32mif\u001b[0m \u001b[0mstart\u001b[0m \u001b[1;32mis\u001b[0m \u001b[1;32mnot\u001b[0m \u001b[1;32mNone\u001b[0m \u001b[1;32melse\u001b[0m \u001b[1;36m0\u001b[0m\u001b[1;33m\u001b[0m\u001b[1;33m\u001b[0m\u001b[0m\n",
      "\u001b[1;31mTypeError\u001b[0m: RangeIndex(...) must be called with integers"
     ]
    }
   ],
   "source": [
    "pddf.index = pd.RangeIndex(0)"
   ]
  },
  {
   "cell_type": "code",
   "execution_count": null,
   "id": "future-program",
   "metadata": {},
   "outputs": [],
   "source": [
    "class Testing:\n",
    "    a = {\"Open\": 5}\n",
    "    def __getattr__(self, attr):\n",
    "        return self.a[attr]"
   ]
  },
  {
   "cell_type": "code",
   "execution_count": null,
   "id": "stuffed-coordination",
   "metadata": {},
   "outputs": [],
   "source": [
    "test = Testing()\n",
    "test.Open"
   ]
  }
 ],
 "metadata": {
  "kernelspec": {
   "display_name": "Python 3",
   "language": "python",
   "name": "python3"
  },
  "language_info": {
   "codemirror_mode": {
    "name": "ipython",
    "version": 3
   },
   "file_extension": ".py",
   "mimetype": "text/x-python",
   "name": "python",
   "nbconvert_exporter": "python",
   "pygments_lexer": "ipython3",
   "version": "3.8.5"
  }
 },
 "nbformat": 4,
 "nbformat_minor": 5
}
