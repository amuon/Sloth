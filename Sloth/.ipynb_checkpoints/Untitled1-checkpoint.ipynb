{
 "cells": [
  {
   "cell_type": "code",
   "execution_count": 1,
   "id": "third-material",
   "metadata": {},
   "outputs": [],
   "source": [
    "from frame import DataFrame as df"
   ]
  },
  {
   "cell_type": "code",
   "execution_count": 2,
   "id": "dynamic-bosnia",
   "metadata": {},
   "outputs": [],
   "source": [
    "import pandas as pd\n",
    "import numpy as np"
   ]
  },
  {
   "cell_type": "code",
   "execution_count": 3,
   "id": "eleven-antenna",
   "metadata": {},
   "outputs": [],
   "source": [
    "x = r\"C:\\Users\\evanh\\Projects\\AT\\Data\\Binance-BTCUSDT.csv\"\n",
    "pddf = pd.read_csv(x, index_col=0)"
   ]
  },
  {
   "cell_type": "code",
   "execution_count": 4,
   "id": "painted-refrigerator",
   "metadata": {},
   "outputs": [
    {
     "data": {
      "text/plain": [
       "array(['2020-01-01 00:00:00+00:00', '2020-01-01 00:01:00+00:00',\n",
       "       '2020-01-01 00:02:00+00:00', ..., '2020-08-05 01:20:00+00:00',\n",
       "       '2020-08-05 01:21:00+00:00', '2020-08-05 01:22:00+00:00'],\n",
       "      dtype=object)"
      ]
     },
     "execution_count": 4,
     "metadata": {},
     "output_type": "execute_result"
    }
   ],
   "source": [
    "np.asarray(pddf.index)"
   ]
  },
  {
   "cell_type": "code",
   "execution_count": 5,
   "id": "improved-peoples",
   "metadata": {},
   "outputs": [],
   "source": [
    "data = df.from_pandas(pddf)"
   ]
  },
  {
   "cell_type": "code",
   "execution_count": 6,
   "id": "peaceful-comment",
   "metadata": {},
   "outputs": [
    {
     "data": {
      "text/plain": [
       "array([51.642812,  7.248148, 11.681677, ..., 28.47845 , 32.099866,\n",
       "        3.773971])"
      ]
     },
     "execution_count": 6,
     "metadata": {},
     "output_type": "execute_result"
    }
   ],
   "source": [
    "pddf[\"Volume\"].values"
   ]
  },
  {
   "cell_type": "code",
   "execution_count": 7,
   "id": "sensitive-tender",
   "metadata": {},
   "outputs": [
    {
     "ename": "TypeError",
     "evalue": "only integer scalar arrays can be converted to a scalar index",
     "output_type": "error",
     "traceback": [
      "\u001b[1;31m---------------------------------------------------------------------------\u001b[0m",
      "\u001b[1;31mTypeError\u001b[0m                                 Traceback (most recent call last)",
      "\u001b[1;32m<ipython-input-7-790d6dc69cc8>\u001b[0m in \u001b[0;36m<module>\u001b[1;34m\u001b[0m\n\u001b[1;32m----> 1\u001b[1;33m \u001b[0mdata\u001b[0m\u001b[1;33m[\u001b[0m\u001b[1;34m\"Test\"\u001b[0m\u001b[1;33m]\u001b[0m \u001b[1;33m=\u001b[0m \u001b[0mpddf\u001b[0m\u001b[1;33m[\u001b[0m\u001b[1;34m\"Volume\"\u001b[0m\u001b[1;33m]\u001b[0m\u001b[1;33m.\u001b[0m\u001b[0mvalues\u001b[0m\u001b[1;33m\u001b[0m\u001b[1;33m\u001b[0m\u001b[0m\n\u001b[0m",
      "\u001b[1;32m~\\Projects\\Sloth\\Sloth\\Sloth\\frame.pyx\u001b[0m in \u001b[0;36mframe.DataFrame.__setitem__\u001b[1;34m()\u001b[0m\n\u001b[0;32m    217\u001b[0m             \u001b[0mindex\u001b[0m \u001b[1;33m=\u001b[0m \u001b[0mnp\u001b[0m\u001b[1;33m.\u001b[0m\u001b[0mappend\u001b[0m\u001b[1;33m(\u001b[0m\u001b[0mself\u001b[0m\u001b[1;33m.\u001b[0m\u001b[0mcolumns\u001b[0m\u001b[1;33m.\u001b[0m\u001b[0mkeys\u001b[0m\u001b[1;33m,\u001b[0m \u001b[0marg\u001b[0m\u001b[1;33m)\u001b[0m\u001b[1;33m\u001b[0m\u001b[1;33m\u001b[0m\u001b[0m\n\u001b[0;32m    218\u001b[0m             \u001b[0mself\u001b[0m\u001b[1;33m.\u001b[0m\u001b[0mcolumns\u001b[0m \u001b[1;33m=\u001b[0m \u001b[0mObjectIndex\u001b[0m\u001b[1;33m(\u001b[0m\u001b[0mindex\u001b[0m\u001b[1;33m)\u001b[0m\u001b[1;33m\u001b[0m\u001b[1;33m\u001b[0m\u001b[0m\n\u001b[1;32m--> 219\u001b[1;33m             \u001b[0mself\u001b[0m\u001b[1;33m.\u001b[0m\u001b[0mvalues_\u001b[0m \u001b[1;33m=\u001b[0m \u001b[0mnp\u001b[0m\u001b[1;33m.\u001b[0m\u001b[0mconcatenate\u001b[0m\u001b[1;33m(\u001b[0m\u001b[0mself\u001b[0m\u001b[1;33m.\u001b[0m\u001b[0mvalues\u001b[0m\u001b[1;33m,\u001b[0m \u001b[0mvalue\u001b[0m\u001b[1;33m.\u001b[0m\u001b[0mT\u001b[0m\u001b[1;33m)\u001b[0m\u001b[1;33m\u001b[0m\u001b[1;33m\u001b[0m\u001b[0m\n\u001b[0m\u001b[0;32m    220\u001b[0m \u001b[1;33m\u001b[0m\u001b[0m\n\u001b[0;32m    221\u001b[0m \u001b[1;33m\u001b[0m\u001b[0m\n",
      "\u001b[1;32m<__array_function__ internals>\u001b[0m in \u001b[0;36mconcatenate\u001b[1;34m(*args, **kwargs)\u001b[0m\n",
      "\u001b[1;31mTypeError\u001b[0m: only integer scalar arrays can be converted to a scalar index"
     ]
    }
   ],
   "source": [
    "data[\"Test\"] = pddf[\"Volume\"].values"
   ]
  },
  {
   "cell_type": "code",
   "execution_count": 25,
   "id": "pediatric-allowance",
   "metadata": {},
   "outputs": [
    {
     "ename": "ValueError",
     "evalue": "all the input arrays must have same number of dimensions, but the array at index 0 has 2 dimension(s) and the array at index 1 has 1 dimension(s)",
     "output_type": "error",
     "traceback": [
      "\u001b[1;31m---------------------------------------------------------------------------\u001b[0m",
      "\u001b[1;31mValueError\u001b[0m                                Traceback (most recent call last)",
      "\u001b[1;32m<ipython-input-25-f13a2df869f6>\u001b[0m in \u001b[0;36m<module>\u001b[1;34m\u001b[0m\n\u001b[1;32m----> 1\u001b[1;33m \u001b[0mnp\u001b[0m\u001b[1;33m.\u001b[0m\u001b[0mconcatenate\u001b[0m\u001b[1;33m(\u001b[0m\u001b[1;33m(\u001b[0m\u001b[0mdata\u001b[0m\u001b[1;33m.\u001b[0m\u001b[0mvalues\u001b[0m\u001b[1;33m,\u001b[0m \u001b[0mpddf\u001b[0m\u001b[1;33m[\u001b[0m\u001b[1;34m\"Volume\"\u001b[0m\u001b[1;33m]\u001b[0m\u001b[1;33m.\u001b[0m\u001b[0mvalues\u001b[0m\u001b[1;33m)\u001b[0m\u001b[1;33m,\u001b[0m \u001b[0maxis\u001b[0m\u001b[1;33m=\u001b[0m\u001b[1;36m1\u001b[0m\u001b[1;33m)\u001b[0m\u001b[1;33m\u001b[0m\u001b[1;33m\u001b[0m\u001b[0m\n\u001b[0m",
      "\u001b[1;32m<__array_function__ internals>\u001b[0m in \u001b[0;36mconcatenate\u001b[1;34m(*args, **kwargs)\u001b[0m\n",
      "\u001b[1;31mValueError\u001b[0m: all the input arrays must have same number of dimensions, but the array at index 0 has 2 dimension(s) and the array at index 1 has 1 dimension(s)"
     ]
    }
   ],
   "source": [
    "np.concatenate((data.values, [pddf[\"Volume\"].values]), axis=1)"
   ]
  },
  {
   "cell_type": "code",
   "execution_count": 30,
   "id": "fewer-landscape",
   "metadata": {},
   "outputs": [
    {
     "data": {
      "text/plain": [
       "(2, 1)"
      ]
     },
     "execution_count": 30,
     "metadata": {},
     "output_type": "execute_result"
    }
   ],
   "source": [
    "a = np.array([[1, 2], [3, 4]])\n",
    "b = np.array([[5, 6]])\n",
    "np.concatenate((a, b.T), axis=1)\n",
    "b.T.shape"
   ]
  },
  {
   "cell_type": "code",
   "execution_count": 21,
   "id": "relative-disclosure",
   "metadata": {},
   "outputs": [
    {
     "data": {
      "text/plain": [
       "(311661,)"
      ]
     },
     "execution_count": 21,
     "metadata": {},
     "output_type": "execute_result"
    }
   ],
   "source": [
    "pddf[\"Volume\"].values.shape"
   ]
  },
  {
   "cell_type": "code",
   "execution_count": 23,
   "id": "furnished-europe",
   "metadata": {},
   "outputs": [
    {
     "data": {
      "text/plain": [
       "(9, 311661)"
      ]
     },
     "execution_count": 23,
     "metadata": {},
     "output_type": "execute_result"
    }
   ],
   "source": [
    "data.values.T.shape"
   ]
  },
  {
   "cell_type": "code",
   "execution_count": null,
   "id": "promotional-medication",
   "metadata": {},
   "outputs": [],
   "source": [
    "%timeit pddf['test'] = pddf[\"Volume\"]\n"
   ]
  },
  {
   "cell_type": "code",
   "execution_count": null,
   "id": "responsible-madagascar",
   "metadata": {},
   "outputs": [],
   "source": [
    "%timeit data[[\"Open\", \"Close\"]]"
   ]
  },
  {
   "cell_type": "code",
   "execution_count": null,
   "id": "altered-scratch",
   "metadata": {},
   "outputs": [],
   "source": []
  },
  {
   "cell_type": "code",
   "execution_count": null,
   "id": "downtown-logistics",
   "metadata": {},
   "outputs": [],
   "source": [
    "%timeit pddf[[\"Open\", \"Close\"]]"
   ]
  },
  {
   "cell_type": "code",
   "execution_count": null,
   "id": "religious-republic",
   "metadata": {},
   "outputs": [],
   "source": [
    "%timeit pddf.iloc[-1]"
   ]
  },
  {
   "cell_type": "code",
   "execution_count": null,
   "id": "heated-ballot",
   "metadata": {},
   "outputs": [],
   "source": [
    "%timeit data.iloc[-1]"
   ]
  },
  {
   "cell_type": "code",
   "execution_count": null,
   "id": "solved-blond",
   "metadata": {},
   "outputs": [],
   "source": [
    "len_columns = len(ti)\n",
    "len_index = 10\n"
   ]
  },
  {
   "cell_type": "code",
   "execution_count": null,
   "id": "separate-assist",
   "metadata": {},
   "outputs": [],
   "source": [
    "np.arange(10).reshape((2,5))[1]"
   ]
  },
  {
   "cell_type": "code",
   "execution_count": null,
   "id": "adjacent-launch",
   "metadata": {},
   "outputs": [],
   "source": [
    "og = [\"A\", \"B\", \"C\", \"D\"]\n",
    "ti = [\"A\", \"X\", \"Y\", \"Z\", \"B\", \"D\", \"E\"]\n",
    "\n",
    "odg = np.ones((4, 10))"
   ]
  },
  {
   "cell_type": "code",
   "execution_count": null,
   "id": "experienced-portal",
   "metadata": {},
   "outputs": [],
   "source": [
    "l = np.zeros((len_columns, len_index))\n",
    "for target_index in range(len(ti)):\n",
    "    for i in range(len(og)):\n",
    "        if ti[target_index] == og[i]:\n",
    "            l[target_index] = odg[i]\n",
    "l"
   ]
  },
  {
   "cell_type": "code",
   "execution_count": null,
   "id": "scheduled-pension",
   "metadata": {},
   "outputs": [],
   "source": [
    "type(data.values_)"
   ]
  },
  {
   "cell_type": "code",
   "execution_count": null,
   "id": "operational-somewhere",
   "metadata": {},
   "outputs": [],
   "source": [
    "l.shape == (7,10)"
   ]
  },
  {
   "cell_type": "code",
   "execution_count": null,
   "id": "infectious-drive",
   "metadata": {
    "scrolled": true
   },
   "outputs": [],
   "source": [
    "arg = slice(None, 5)\n",
    "arg.start >= 0"
   ]
  }
 ],
 "metadata": {
  "kernelspec": {
   "display_name": "Python 3",
   "language": "python",
   "name": "python3"
  },
  "language_info": {
   "codemirror_mode": {
    "name": "ipython",
    "version": 3
   },
   "file_extension": ".py",
   "mimetype": "text/x-python",
   "name": "python",
   "nbconvert_exporter": "python",
   "pygments_lexer": "ipython3",
   "version": "3.8.5"
  }
 },
 "nbformat": 4,
 "nbformat_minor": 5
}
